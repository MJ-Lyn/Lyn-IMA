{
  "nbformat": 4,
  "nbformat_minor": 0,
  "metadata": {
    "colab": {
      "name": "Hands-on Introduction to Machine Learning for SEOs.ipynb",
      "provenance": [],
      "include_colab_link": true
    },
    "kernelspec": {
      "name": "python3",
      "display_name": "Python 3"
    }
  },
  "cells": [
    {
      "cell_type": "markdown",
      "metadata": {
        "id": "view-in-github",
        "colab_type": "text"
      },
      "source": [
        "<a href=\"https://colab.research.google.com/github/MJ-Lyn/Lyn-IMA/blob/main/Hands_on_Introduction_to_Machine_Learning_for_SEOs.ipynb\" target=\"_parent\"><img src=\"https://colab.research.google.com/assets/colab-badge.svg\" alt=\"Open In Colab\"/></a>"
      ]
    },
    {
      "cell_type": "markdown",
      "metadata": {
        "id": "ccz2TrYWBxpO"
      },
      "source": [
        "# A Hands-on Introduction to Machine Learning for SEOs\n",
        "\n",
        "Here is technical plan to generate the training dataset:\n",
        "\n",
        "1. Extract: we will walk through my code to connect to Google Search Console and pull CTR data\n",
        "2. Transform: then, we will fetch the pages titles and meta descriptions and normalize/clean them\n",
        "3. Load: finally, we will populate a Google Sheet with the pages, titles, meta descriptions and CTRs"
      ]
    },
    {
      "cell_type": "code",
      "metadata": {
        "id": "QN-31rag7ccu",
        "cellView": "form"
      },
      "source": [
        "spreadsheetName=\"A Hands-on Introduction to Machine Learning for SEOs\" #@param {type:\"string\"}\n",
        "sitename=\"https://www.domain.com/\" #@param {type:\"string\"}\n",
        "client_id=\"client_id.json\" #@param {type:\"string\"}\n"
      ],
      "execution_count": null,
      "outputs": []
    },
    {
      "cell_type": "markdown",
      "metadata": {
        "id": "TFuwmsfMEav_"
      },
      "source": [
        "## Extracting from Google Search Console\n",
        "\n",
        "First, there is some setup to download a client_id.json file our Python code can use to connect securely to Google Search Console.\n",
        "\n",
        "1. Activate Search Console API in Compute Engine  https://console.cloud.google.com/apis/api/webmasters.googleapis.com/overview?project=&folder=&organizationId=\n",
        "2. Create New Credentials / Help me choose (Search Console API, Other UI, User data)  https://console.cloud.google.com/apis/credentials/wizard?api=iamcredentials.googleapis.com&project=\n",
        "3. Download client_id.json"
      ]
    },
    {
      "cell_type": "code",
      "metadata": {
        "id": "1PeY3rvEEXwn"
      },
      "source": [
        "#Next, we need to upload the file\n",
        "from google.colab import files\n",
        "\n",
        "files.upload()"
      ],
      "execution_count": null,
      "outputs": []
    },
    {
      "cell_type": "code",
      "metadata": {
        "id": "EbTXkq_MFWLb"
      },
      "source": [
        "# Go to Runtime > run after\n",
        "!pip install git+https://github.com/joshcarty/google-searchconsole"
      ],
      "execution_count": null,
      "outputs": []
    },
    {
      "cell_type": "code",
      "metadata": {
        "id": "LMLAGTlsFSNs"
      },
      "source": [
        "# run once\n",
        "import searchconsole\n",
        "account = searchconsole.authenticate(client_config=\"client_id.json\", serialize='credentials.json', flow=\"console\")\n"
      ],
      "execution_count": null,
      "outputs": []
    },
    {
      "cell_type": "markdown",
      "metadata": {
        "id": "w2kS9MCEIUix"
      },
      "source": [
        "Let's get our Search Console data"
      ]
    },
    {
      "cell_type": "code",
      "metadata": {
        "id": "W2M29fZ-IYDG"
      },
      "source": [
        "webproperty = account[sitename]"
      ],
      "execution_count": null,
      "outputs": []
    },
    {
      "cell_type": "code",
      "metadata": {
        "id": "Ea95fooEIlw4"
      },
      "source": [
        "#let's build a pandas dataframe with the search console data\n",
        "import pandas as pd\n",
        "\n",
        "def get_search_console_data(webproperty, days=-7):\n",
        "  if webproperty is not None:\n",
        "    query = webproperty.query.range(start='today', days=days).dimension('page', 'query', 'country', 'device')\n",
        "\n",
        "    r = query.get()\n",
        "    df = pd.DataFrame(r.rows)\n",
        "    return df\n",
        "\n",
        "  print(\"Web property doesn't exist, please select a valid one from this list\")\n",
        "  print(account.webproperties)\n",
        "\n",
        "  return None\n"
      ],
      "execution_count": null,
      "outputs": []
    },
    {
      "cell_type": "code",
      "metadata": {
        "id": "DXORyjWXJg8J"
      },
      "source": [
        "df = get_search_console_data(webproperty)"
      ],
      "execution_count": null,
      "outputs": []
    },
    {
      "cell_type": "code",
      "metadata": {
        "id": "tWhS8WmVJltN",
        "outputId": "bbbd9ed7-5317-4be8-cb5f-866a527676c3",
        "colab": {
          "base_uri": "https://localhost:8080/",
          "height": 272
        }
      },
      "source": [
        "df.info()"
      ],
      "execution_count": null,
      "outputs": [
        {
          "output_type": "stream",
          "text": [
            "<class 'pandas.core.frame.DataFrame'>\n",
            "RangeIndex: 104290 entries, 0 to 104289\n",
            "Data columns (total 8 columns):\n",
            " #   Column       Non-Null Count   Dtype  \n",
            "---  ------       --------------   -----  \n",
            " 0   page         104290 non-null  object \n",
            " 1   query        104290 non-null  object \n",
            " 2   country      104290 non-null  object \n",
            " 3   device       104290 non-null  object \n",
            " 4   clicks       104290 non-null  float64\n",
            " 5   impressions  104290 non-null  float64\n",
            " 6   ctr          104290 non-null  float64\n",
            " 7   position     104290 non-null  float64\n",
            "dtypes: float64(4), object(4)\n",
            "memory usage: 6.4+ MB\n"
          ],
          "name": "stdout"
        }
      ]
    },
    {
      "cell_type": "code",
      "metadata": {
        "id": "wf6Wz1ViO1_z"
      },
      "source": [
        "df.head()"
      ],
      "execution_count": null,
      "outputs": []
    },
    {
      "cell_type": "code",
      "metadata": {
        "id": "ZZnrNPCiO7OA",
        "outputId": "0e0fa816-9cd3-4190-e553-8512e8f54878",
        "colab": {
          "base_uri": "https://localhost:8080/",
          "height": 34
        }
      },
      "source": [
        "pages = list(set(df.page))\n",
        "len(pages)"
      ],
      "execution_count": null,
      "outputs": [
        {
          "output_type": "execute_result",
          "data": {
            "text/plain": [
              "2707"
            ]
          },
          "metadata": {
            "tags": []
          },
          "execution_count": 11
        }
      ]
    },
    {
      "cell_type": "markdown",
      "metadata": {
        "id": "5C-ATXerVxf3"
      },
      "source": [
        "## Extracting title and meta descriptions"
      ]
    },
    {
      "cell_type": "markdown",
      "metadata": {
        "id": "2TPNMyYJPv9c"
      },
      "source": [
        "Let's fetch the titles and meta descriptions"
      ]
    },
    {
      "cell_type": "code",
      "metadata": {
        "id": "eTgi5fIOPZCu"
      },
      "source": [
        "#let's install the library\n",
        "!pip install requests-html"
      ],
      "execution_count": null,
      "outputs": []
    },
    {
      "cell_type": "code",
      "metadata": {
        "id": "PqnmoSi2QA-x"
      },
      "source": [
        "from requests_html import HTMLSession\n",
        "\n",
        "def get_title_meta_description(page):\n",
        "  session = HTMLSession()\n",
        "\n",
        "  try:\n",
        "    r = session.get(page)\n",
        "\n",
        "    if r.status_code == 200:\n",
        "      title = r.html.xpath('//title/text()')\n",
        "      meta_description = r.html.xpath(\"//meta[@name='description']/@content\")\n",
        "\n",
        "      #Inner utility function\n",
        "      def get_first(result):\n",
        "        if len(result) == 0:\n",
        "          return None\n",
        "        else:\n",
        "          return result[0]\n",
        "\n",
        "      return {\"title\": get_first(title), \"meta_description\": get_first(meta_description)}\n",
        "\n",
        "    else:\n",
        "      print(f\"Failed to fetch page: {page} with status code {r.status_code}\")\n",
        "\n",
        "  except:\n",
        "    print(f\"Failed to fetch page: {page}\")\n",
        "    return None\n"
      ],
      "execution_count": null,
      "outputs": []
    },
    {
      "cell_type": "code",
      "metadata": {
        "id": "XjLfHlDVSjDQ"
      },
      "source": [
        "get_title_meta_description(pages[0])"
      ],
      "execution_count": null,
      "outputs": []
    },
    {
      "cell_type": "code",
      "metadata": {
        "id": "Y-ZVK1pjS313"
      },
      "source": [
        "# let's get all of them\n",
        "titles_and_meta_descriptions=dict()\n",
        "\n"
      ],
      "execution_count": null,
      "outputs": []
    },
    {
      "cell_type": "code",
      "metadata": {
        "id": "v2CM3hewT953"
      },
      "source": [
        "import time\n",
        "\n",
        "for page in pages[:10]: # test on smaller number first\n",
        "  print(f\"Fetching page: {page}\")\n",
        "  titles_and_meta_descriptions[page] = get_title_meta_description(page)\n",
        "  #add delay between requests\n",
        "  time.sleep(1)"
      ],
      "execution_count": null,
      "outputs": []
    },
    {
      "cell_type": "markdown",
      "metadata": {
        "id": "BfXdNLneUpZ2"
      },
      "source": [
        "Let's see if the output is coming out Ok"
      ]
    },
    {
      "cell_type": "code",
      "metadata": {
        "id": "Am-pJv1WUXir"
      },
      "source": [
        "titles_and_meta_descriptions"
      ],
      "execution_count": null,
      "outputs": []
    },
    {
      "cell_type": "markdown",
      "metadata": {
        "id": "kw9Agc3QVIzk"
      },
      "source": [
        "Now, let's get the full list and turn off printing to do it faster"
      ]
    },
    {
      "cell_type": "code",
      "metadata": {
        "id": "c2vsnbfGUus2"
      },
      "source": [
        "import time\n",
        "\n",
        "for page in pages: # running full list\n",
        "  print(f\"Fetching page: {page}\")\n",
        "  titles_and_meta_descriptions[page] = get_title_meta_description(page)\n",
        "  #add delay between requests\n",
        "  time.sleep(1)"
      ],
      "execution_count": null,
      "outputs": []
    },
    {
      "cell_type": "markdown",
      "metadata": {
        "id": "WBOURgPDugcR"
      },
      "source": [
        "## Creating a new dataframe\n",
        "\n"
      ]
    },
    {
      "cell_type": "code",
      "metadata": {
        "id": "JGAwLv_Pvg1N"
      },
      "source": [
        "data = list()\n",
        "\n",
        "for k, v in titles_and_meta_descriptions.items():\n",
        "  #print (k,v)\n",
        "  row = dict()\n",
        "  if v is None:\n",
        "    print(f\"skipping page: {k}\")\n",
        "    continue \n",
        "\n",
        "  row[\"page\"] = k\n",
        "  row[\"title\"] = v[\"title\"]\n",
        "  row[\"meta_description\"] = v[\"meta_description\"]\n",
        "\n",
        "  data.append(row)\n"
      ],
      "execution_count": null,
      "outputs": []
    },
    {
      "cell_type": "code",
      "metadata": {
        "id": "Siitn6JeuoeR"
      },
      "source": [
        "new_df = pd.DataFrame(data)"
      ],
      "execution_count": null,
      "outputs": []
    },
    {
      "cell_type": "code",
      "metadata": {
        "id": "VDe0IQm-u1bj"
      },
      "source": [
        "new_df.head()"
      ],
      "execution_count": null,
      "outputs": []
    },
    {
      "cell_type": "code",
      "metadata": {
        "id": "YEz7xEI_wyRx",
        "outputId": "3c20600e-8ecf-452d-b1c1-6b878fba2fa5",
        "colab": {
          "base_uri": "https://localhost:8080/",
          "height": 187
        }
      },
      "source": [
        "new_df.info()"
      ],
      "execution_count": null,
      "outputs": [
        {
          "output_type": "stream",
          "text": [
            "<class 'pandas.core.frame.DataFrame'>\n",
            "RangeIndex: 2591 entries, 0 to 2590\n",
            "Data columns (total 3 columns):\n",
            " #   Column            Non-Null Count  Dtype \n",
            "---  ------            --------------  ----- \n",
            " 0   page              2591 non-null   object\n",
            " 1   title             2039 non-null   object\n",
            " 2   meta_description  1995 non-null   object\n",
            "dtypes: object(3)\n",
            "memory usage: 60.9+ KB\n"
          ],
          "name": "stdout"
        }
      ]
    },
    {
      "cell_type": "code",
      "metadata": {
        "id": "CbOSZb4Vw4Tl"
      },
      "source": [
        ""
      ],
      "execution_count": null,
      "outputs": []
    },
    {
      "cell_type": "markdown",
      "metadata": {
        "id": "ni6MSAdow6gM"
      },
      "source": [
        "## Merge dataframes\n",
        "\n"
      ]
    },
    {
      "cell_type": "code",
      "metadata": {
        "id": "LRYUD4B_xL7T"
      },
      "source": [
        "merged_df=pd.merge(df, new_df, how=\"left\", on=\"page\")"
      ],
      "execution_count": null,
      "outputs": []
    },
    {
      "cell_type": "code",
      "metadata": {
        "id": "icbeBvcnxOVU"
      },
      "source": [
        "merged_df.head()"
      ],
      "execution_count": null,
      "outputs": []
    },
    {
      "cell_type": "code",
      "metadata": {
        "id": "1-h7dxUQxUss",
        "outputId": "4a8ae544-45c7-4764-e621-68b135ee8953",
        "colab": {
          "base_uri": "https://localhost:8080/",
          "height": 306
        }
      },
      "source": [
        "merged_df.info()"
      ],
      "execution_count": null,
      "outputs": [
        {
          "output_type": "stream",
          "text": [
            "<class 'pandas.core.frame.DataFrame'>\n",
            "Int64Index: 99495 entries, 0 to 99494\n",
            "Data columns (total 10 columns):\n",
            " #   Column            Non-Null Count  Dtype  \n",
            "---  ------            --------------  -----  \n",
            " 0   page              99495 non-null  object \n",
            " 1   query             99495 non-null  object \n",
            " 2   country           99495 non-null  object \n",
            " 3   device            99495 non-null  object \n",
            " 4   clicks            99495 non-null  float64\n",
            " 5   impressions       99495 non-null  float64\n",
            " 6   ctr               99495 non-null  float64\n",
            " 7   position          99495 non-null  float64\n",
            " 8   title             96639 non-null  object \n",
            " 9   meta_description  92949 non-null  object \n",
            "dtypes: float64(4), object(6)\n",
            "memory usage: 8.3+ MB\n"
          ],
          "name": "stdout"
        }
      ]
    },
    {
      "cell_type": "code",
      "metadata": {
        "id": "kjRQ2ZHxLQrg"
      },
      "source": [
        "merged_df.dropna().head()"
      ],
      "execution_count": null,
      "outputs": []
    },
    {
      "cell_type": "code",
      "metadata": {
        "id": "n3EcION2Ldnc"
      },
      "source": [
        ""
      ],
      "execution_count": null,
      "outputs": []
    },
    {
      "cell_type": "markdown",
      "metadata": {
        "id": "AEpv_9JBLhwb"
      },
      "source": [
        "## Keywords in title\n",
        "\n",
        "https://stackoverflow.com/questions/31806695/when-to-use-which-fuzz-function-to-compare-2-strings\n",
        "https://chairnerd.seatgeek.com/fuzzywuzzy-fuzzy-string-matching-in-python/\n",
        "https://github.com/seatgeek/fuzzywuzzy"
      ]
    },
    {
      "cell_type": "code",
      "source": [
        ""
      ],
      "metadata": {
        "id": "Lk6Z4W6mQjqU"
      },
      "execution_count": null,
      "outputs": []
    },
    {
      "cell_type": "code",
      "metadata": {
        "id": "wwtEXDjuMsRJ"
      },
      "source": [
        "!pip install fuzzywuzzy[speedup]"
      ],
      "execution_count": null,
      "outputs": []
    },
    {
      "cell_type": "code",
      "metadata": {
        "id": "nK9hmVHCNBfO"
      },
      "source": [
        "from fuzzywuzzy import fuzz"
      ],
      "execution_count": null,
      "outputs": []
    },
    {
      "cell_type": "code",
      "metadata": {
        "id": "Jglurn9PQJ_9"
      },
      "source": [
        "#remove empty rows\n",
        "df = merged_df.dropna()"
      ],
      "execution_count": null,
      "outputs": []
    },
    {
      "cell_type": "code",
      "metadata": {
        "id": "EqD4trpWNxbZ"
      },
      "source": [
        "#df.apply(lambda row: fuzz.partial_ratio(row[\"query\"], row[\"title\"]), axis = 1)\n",
        "df[\"query_in_title\"] = df.apply(lambda row: fuzz.partial_ratio(row[\"query\"], row[\"title\"]), axis=1)\n"
      ],
      "execution_count": null,
      "outputs": []
    },
    {
      "cell_type": "code",
      "metadata": {
        "id": "ohKp0dDXNxld"
      },
      "source": [
        "df.head()"
      ],
      "execution_count": null,
      "outputs": []
    },
    {
      "cell_type": "markdown",
      "metadata": {
        "id": "j4XLpVUFVcpC"
      },
      "source": [
        "## Populating our Google Sheet"
      ]
    },
    {
      "cell_type": "code",
      "metadata": {
        "id": "NzLG2zCXXq6q"
      },
      "source": [
        "#https://pypi.org/project/gspread-pandas/\n"
      ],
      "execution_count": null,
      "outputs": []
    },
    {
      "cell_type": "code",
      "metadata": {
        "id": "LGGKD7nzXt18"
      },
      "source": [
        "!pip install git+https://github.com/hamletbatista/gspread-pandas.git@patch-1\n",
        "#https://github.com/aiguofer/gspread-pandas/pull/47"
      ],
      "execution_count": null,
      "outputs": []
    },
    {
      "cell_type": "code",
      "metadata": {
        "id": "3i2wGQnzyb8k"
      },
      "source": [
        "# Authenticate (copy & paste key as detailed)\n",
        "from google.colab import auth\n",
        "auth.authenticate_user()\n",
        "import gspread\n",
        "from oauth2client.client import GoogleCredentials"
      ],
      "execution_count": null,
      "outputs": []
    },
    {
      "cell_type": "code",
      "metadata": {
        "id": "mdCOnEp8ykj_"
      },
      "source": [
        "from gspread_pandas import Spread, Client"
      ],
      "execution_count": null,
      "outputs": []
    },
    {
      "cell_type": "code",
      "metadata": {
        "id": "tljyUghFyrVx"
      },
      "source": [
        "creds = GoogleCredentials.get_application_default()"
      ],
      "execution_count": null,
      "outputs": []
    },
    {
      "cell_type": "code",
      "metadata": {
        "id": "6Wgu5tlFynPB"
      },
      "source": [
        "spread = Spread(spreadsheetName, creds=creds)\n"
      ],
      "execution_count": null,
      "outputs": []
    },
    {
      "cell_type": "code",
      "metadata": {
        "id": "MTl0l2v7y6RL"
      },
      "source": [
        "#https://gspread-pandas.readthedocs.io/en/latest/getting_started.html"
      ],
      "execution_count": null,
      "outputs": []
    },
    {
      "cell_type": "code",
      "metadata": {
        "id": "7GdQhApjzLGi",
        "outputId": "f97892d3-442e-4cbf-d4e4-779ef22843f3",
        "colab": {
          "base_uri": "https://localhost:8080/",
          "height": 34
        }
      },
      "source": [
        "# Display available worksheets\n",
        "spread.sheets"
      ],
      "execution_count": null,
      "outputs": [
        {
          "output_type": "execute_result",
          "data": {
            "text/plain": [
              "[<Worksheet 'Sheet1' id:0>, <Worksheet 'Client' id:1763709549>]"
            ]
          },
          "metadata": {
            "tags": []
          },
          "execution_count": 32
        }
      ]
    },
    {
      "cell_type": "code",
      "metadata": {
        "id": "DydKTAfLzOx9"
      },
      "source": [
        "# Save DataFrame to worksheet 'Client', create it first if it doesn't exist\n",
        "spread.df_to_sheet(df, index=False, sheet='Client', start='A1', replace=True)"
      ],
      "execution_count": null,
      "outputs": []
    },
    {
      "cell_type": "code",
      "metadata": {
        "id": "e-fpBUmjz58O"
      },
      "source": [
        ""
      ],
      "execution_count": null,
      "outputs": []
    }
  ]
}